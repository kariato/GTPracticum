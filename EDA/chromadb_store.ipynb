{
 "cells": [
  {
   "cell_type": "code",
   "execution_count": 4,
   "metadata": {},
   "outputs": [
    {
     "name": "stderr",
     "output_type": "stream",
     "text": [
      "/Volumes/External/opt/anaconda3/envs/ollama/lib/python3.10/site-packages/tqdm/auto.py:21: TqdmWarning: IProgress not found. Please update jupyter and ipywidgets. See https://ipywidgets.readthedocs.io/en/stable/user_install.html\n",
      "  from .autonotebook import tqdm as notebook_tqdm\n"
     ]
    }
   ],
   "source": [
    "from langchain.embeddings.sentence_transformer import SentenceTransformerEmbeddings\n",
    "from langchain.text_splitter import CharacterTextSplitter,RecursiveCharacterTextSplitter\n",
    "from langchain_community.document_loaders import DataFrameLoader\n",
    "import sentence_transformers\n",
    "from langchain.vectorstores import Chroma\n",
    "import pandas as pd"
   ]
  },
  {
   "cell_type": "code",
   "execution_count": 22,
   "metadata": {},
   "outputs": [
    {
     "name": "stdout",
     "output_type": "stream",
     "text": [
      "/Volumes/External/source/GTPracticum/data\n",
      "total 13108360\n",
      "      0 drwxr-xr-x   14 kariato  staff   448B Feb 12 01:05 \u001b[34m.\u001b[m\u001b[m/\n",
      "      0 drwxr-xr-x    7 kariato  staff   224B Feb 10 21:29 \u001b[34m..\u001b[m\u001b[m/\n",
      "     16 -rw-r--r--@   1 kariato  staff   6.0K Feb 10 14:58 .DS_Store\n",
      "    464 -rw-r--r--@   1 kariato  staff   232K Feb 10 16:00 9deec473-6ab3-4c90-a2ec-86ae93b0a6e6.pdf\n",
      " 733000 -rw-r--r--@   1 kariato  staff   358M Feb 10 14:56 archive (1).zip\n",
      "      0 drwxr-xr-x    4 kariato  staff   128B Feb 12 02:29 \u001b[34mchroma_db\u001b[m\u001b[m/\n",
      "2785400 -rw-rw-r--@   1 kariato  staff   1.3G Sep 19  2019 emails.csv\n",
      "2109312 -rw-r--r--    1 kariato  staff   1.0G Feb 10 14:24 enron.sql\n",
      " 427936 -rw-r--r--@   1 kariato  staff   209M Feb 10 14:24 enron.sql.gz\n",
      " 865736 -rw-r--r--@   1 kariato  staff   423M Feb 10 14:35 enron_mail_20150507.tar.gz\n",
      "6177656 -rw-r--r--    1 kariato  staff   2.9G Feb 11 23:50 enron_processed.csv\n",
      "      0 drwxr-xr-x@  11 kariato  staff   352B Nov 10  2004 \u001b[34menron_with_categories\u001b[m\u001b[m/\n",
      "   8840 -rw-r--r--@   1 kariato  staff   4.3M Feb 10 14:25 enron_with_categories.tar.gz\n",
      "      0 drwxr-xr-x@ 152 kariato  staff   4.8K Apr  1  2011 \u001b[34mmaildir\u001b[m\u001b[m/\n"
     ]
    },
    {
     "name": "stderr",
     "output_type": "stream",
     "text": [
      "huggingface/tokenizers: The current process just got forked, after parallelism has already been used. Disabling parallelism to avoid deadlocks...\n",
      "To disable this warning, you can either:\n",
      "\t- Avoid using `tokenizers` before the fork if possible\n",
      "\t- Explicitly set the environment variable TOKENIZERS_PARALLELISM=(true | false)\n"
     ]
    }
   ],
   "source": [
    "%cd /Volumes/External/source/GTPracticum/data \n",
    "%ls -salh"
   ]
  },
  {
   "cell_type": "code",
   "execution_count": 23,
   "metadata": {},
   "outputs": [],
   "source": [
    "enron_df=pd.read_csv('enron_processed.csv')"
   ]
  },
  {
   "cell_type": "code",
   "execution_count": 5,
   "metadata": {},
   "outputs": [],
   "source": [
    "enron_df.drop(['body','raw'],axis=1,inplace=True)"
   ]
  },
  {
   "cell_type": "code",
   "execution_count": 6,
   "metadata": {},
   "outputs": [
    {
     "data": {
      "text/plain": [
       "Index(['Unnamed: 0', 'MESSAGE-ID', 'DATE', 'FROM', 'TO', 'SUBJECT',\n",
       "       'MIME-VERSION', 'CONTENT-TYPE', 'CONTENT-TRANSFER-ENCODING',\n",
       "       'body_short', 'CC', 'SENT', 'BCC'],\n",
       "      dtype='object')"
      ]
     },
     "execution_count": 6,
     "metadata": {},
     "output_type": "execute_result"
    }
   ],
   "source": [
    "enron_df.columns"
   ]
  },
  {
   "cell_type": "code",
   "execution_count": 7,
   "metadata": {},
   "outputs": [],
   "source": [
    "load_df = DataFrameLoader(enron_df, page_content_column='body_short')\n",
    "documents = load_df.load()"
   ]
  },
  {
   "cell_type": "code",
   "execution_count": 8,
   "metadata": {},
   "outputs": [],
   "source": [
    "text_splitter = RecursiveCharacterTextSplitter(chunk_size=3000, chunk_overlap=100)\n",
    "docs = text_splitter.split_documents(documents)"
   ]
  },
  {
   "cell_type": "code",
   "execution_count": 9,
   "metadata": {},
   "outputs": [
    {
     "name": "stderr",
     "output_type": "stream",
     "text": [
      "modules.json: 100%|██████████| 349/349 [00:00<00:00, 715kB/s]\n",
      "config_sentence_transformers.json: 100%|██████████| 116/116 [00:00<00:00, 823kB/s]\n",
      "README.md: 100%|██████████| 10.6k/10.6k [00:00<00:00, 14.9MB/s]\n",
      "sentence_bert_config.json: 100%|██████████| 53.0/53.0 [00:00<00:00, 229kB/s]\n",
      "config.json: 100%|██████████| 612/612 [00:00<00:00, 2.16MB/s]\n",
      "/Volumes/External/opt/anaconda3/envs/ollama/lib/python3.10/site-packages/bitsandbytes/cextension.py:34: UserWarning: The installed version of bitsandbytes was compiled without GPU support. 8-bit optimizers, 8-bit multiplication, and GPU quantization are unavailable.\n",
      "  warn(\"The installed version of bitsandbytes was compiled without GPU support. \"\n"
     ]
    },
    {
     "name": "stdout",
     "output_type": "stream",
     "text": [
      "'NoneType' object has no attribute 'cadam32bit_grad_fp32'\n"
     ]
    },
    {
     "name": "stderr",
     "output_type": "stream",
     "text": [
      "pytorch_model.bin: 100%|██████████| 90.9M/90.9M [00:08<00:00, 10.4MB/s]\n",
      "/Volumes/External/opt/anaconda3/envs/ollama/lib/python3.10/site-packages/torch/_utils.py:841: UserWarning: TypedStorage is deprecated. It will be removed in the future and UntypedStorage will be the only storage class. This should only matter to you if you are using storages directly.  To access UntypedStorage directly, use tensor.untyped_storage() instead of tensor.storage()\n",
      "  return self.fget.__get__(instance, owner)()\n",
      "tokenizer_config.json: 100%|██████████| 350/350 [00:00<00:00, 2.97MB/s]\n",
      "vocab.txt: 100%|██████████| 232k/232k [00:00<00:00, 3.81MB/s]\n",
      "tokenizer.json: 100%|██████████| 466k/466k [00:00<00:00, 10.9MB/s]\n",
      "special_tokens_map.json: 100%|██████████| 112/112 [00:00<00:00, 437kB/s]\n",
      "1_Pooling/config.json: 100%|██████████| 190/190 [00:00<00:00, 417kB/s]\n"
     ]
    }
   ],
   "source": [
    "embedding_function = SentenceTransformerEmbeddings(model_name=\"all-MiniLM-L6-v2\")"
   ]
  },
  {
   "cell_type": "code",
   "execution_count": 10,
   "metadata": {},
   "outputs": [],
   "source": [
    "db = Chroma.from_documents(docs, embedding_function,persist_directory=\"./chroma_db\")"
   ]
  },
  {
   "cell_type": "code",
   "execution_count": 39,
   "metadata": {},
   "outputs": [
    {
     "name": "stdout",
     "output_type": "stream",
     "text": [
      "page_content=\"Subject: Re: Socal\\n\\nCorporate schizophrenia.  Weird.   DF\\n\\n\\n   \\n\\t\\n\\t\\n\\t\\n\\n\\nSubject: Socal\\n\\nSoCal's protest is ludicrous. I will work on a response.\\nBy the way, SoCal has actually been remarkably helpful in reaching agreement \\non a settlement -- which we just signed -- in the California GIR proceeding.\" metadata={'DATE': ' Mon, 17 Apr 2000 09:52', 'FROM': '>>   Susan Scott                           04/17/2000 03', 'SUBJECT': ' Re>> ', 'TO': '>> ', 'Unnamed: 0': 115182}\n"
     ]
    }
   ],
   "source": [
    "query = \"illegal manipluation\"\n",
    "docs = db.similarity_search(query)\n",
    "\n",
    "# print results\n",
    "print(docs[2])"
   ]
  },
  {
   "cell_type": "code",
   "execution_count": 40,
   "metadata": {},
   "outputs": [
    {
     "name": "stdout",
     "output_type": "stream",
     "text": [
      "Message-ID: <12645594.1075842517758.JavaMail.evans@thyme>\n",
      "Date: Mon, 17 Apr 2000 09:52:00 -0700 (PDT)\n",
      "From: drew.fossum@enron.com\n",
      "To: susan.scott@enron.com\n",
      "Subject: Re: Socal\n",
      "Mime-Version: 1.0\n",
      "Content-Type: text/plain; charset=us-ascii\n",
      "Content-Transfer-Encoding: 7bit\n",
      "X-From: Drew Fossum\n",
      "X-To: Susan Scott\n",
      "X-cc: \n",
      "X-bcc: \n",
      "X-Folder: \\Drew_Fossum_Dec2000_June2001_1\\Notes Folders\\'sent mail\n",
      "X-Origin: FOSSUM-D\n",
      "X-FileName: dfossum.nsf\n",
      "\n",
      "Corporate schizophrenia.  Weird.   DF\n",
      "\n",
      "\n",
      "   \n",
      "\t\n",
      "\t\n",
      "\tFrom:  Susan Scott                           04/17/2000 03:17 PM\n",
      "\t\n",
      "\n",
      "To: Drew Fossum@ENRON\n",
      "cc:  \n",
      "\n",
      "Subject: Socal\n",
      "\n",
      "SoCal's protest is ludicrous. I will work on a response.\n",
      "By the way, SoCal has actually been remarkably helpful in reaching agreement \n",
      "on a settlement -- which we just signed -- in the California GIR proceeding.\n",
      "\n",
      "\n"
     ]
    }
   ],
   "source": [
    "print(enron_df[enron_df['Unnamed: 0']==115182]['raw'].to_list()[0])"
   ]
  },
  {
   "cell_type": "code",
   "execution_count": 28,
   "metadata": {},
   "outputs": [
    {
     "name": "stdout",
     "output_type": "stream",
     "text": [
      "Subject: Energy market outlook 11/27/01\n",
      "\n"
     ]
    }
   ],
   "source": [
    "print(enron_df[enron_df['Unnamed: 0']==32653]['body'].to_list()[0])"
   ]
  }
 ],
 "metadata": {
  "kernelspec": {
   "display_name": "ollama",
   "language": "python",
   "name": "ollama"
  },
  "language_info": {
   "codemirror_mode": {
    "name": "ipython",
    "version": 3
   },
   "file_extension": ".py",
   "mimetype": "text/x-python",
   "name": "python",
   "nbconvert_exporter": "python",
   "pygments_lexer": "ipython3",
   "version": "3.10.10"
  }
 },
 "nbformat": 4,
 "nbformat_minor": 2
}
