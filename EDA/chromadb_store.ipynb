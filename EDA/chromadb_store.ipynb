{
 "cells": [
  {
   "cell_type": "code",
   "execution_count": 2,
   "metadata": {},
   "outputs": [],
   "source": [
    "import chromadb as cdb"
   ]
  },
  {
   "cell_type": "code",
   "execution_count": 3,
   "metadata": {},
   "outputs": [
    {
     "name": "stdout",
     "output_type": "stream",
     "text": [
      "/Volumes/External/source/GTPracticum/data\n",
      "total 13293816\n",
      "      0 drwxr-xr-x   13 kariato  staff   416B Feb 11 14:17 \u001b[34m.\u001b[m\u001b[m/\n",
      "      0 drwxr-xr-x    7 kariato  staff   224B Feb 10 21:29 \u001b[34m..\u001b[m\u001b[m/\n",
      "     16 -rw-r--r--@   1 kariato  staff   6.0K Feb 10 14:58 .DS_Store\n",
      "    464 -rw-r--r--@   1 kariato  staff   232K Feb 10 16:00 9deec473-6ab3-4c90-a2ec-86ae93b0a6e6.pdf\n",
      " 733000 -rw-r--r--@   1 kariato  staff   358M Feb 10 14:56 archive (1).zip\n",
      "2785400 -rw-rw-r--@   1 kariato  staff   1.3G Sep 19  2019 emails.csv\n",
      "2109312 -rw-r--r--    1 kariato  staff   1.0G Feb 10 14:24 enron.sql\n",
      " 427936 -rw-r--r--@   1 kariato  staff   209M Feb 10 14:24 enron.sql.gz\n",
      " 865736 -rw-r--r--@   1 kariato  staff   423M Feb 10 14:35 enron_mail_20150507.tar.gz\n",
      "6363112 -rw-r--r--    1 kariato  staff   3.0G Feb 11 14:17 enron_processed.csv\n",
      "      0 drwxr-xr-x@  11 kariato  staff   352B Nov 10  2004 \u001b[34menron_with_categories\u001b[m\u001b[m/\n",
      "   8840 -rw-r--r--@   1 kariato  staff   4.3M Feb 10 14:25 enron_with_categories.tar.gz\n",
      "      0 drwxr-xr-x@ 152 kariato  staff   4.8K Apr  1  2011 \u001b[34mmaildir\u001b[m\u001b[m/\n"
     ]
    }
   ],
   "source": [
    "%cd /Volumes/External/source/GTPracticum/data \n",
    "%ls -salh"
   ]
  },
  {
   "cell_type": "code",
   "execution_count": 5,
   "metadata": {},
   "outputs": [
    {
     "data": {
      "text/plain": [
       "['API',\n",
       " 'Client',\n",
       " 'ClientStartEvent',\n",
       " 'Collection',\n",
       " 'CollectionMetadata',\n",
       " 'Dict',\n",
       " 'Documents',\n",
       " 'EmbeddingFunction',\n",
       " 'Embeddings',\n",
       " 'EphemeralClient',\n",
       " 'GetResult',\n",
       " 'HttpClient',\n",
       " 'IDs',\n",
       " 'IN_COLAB',\n",
       " 'Include',\n",
       " 'Metadata',\n",
       " 'PersistentClient',\n",
       " 'QueryResult',\n",
       " 'Settings',\n",
       " 'System',\n",
       " 'Telemetry',\n",
       " 'UpdateCollectionMetadata',\n",
       " 'Where',\n",
       " 'WhereDocument',\n",
       " '__all__',\n",
       " '__builtins__',\n",
       " '__cached__',\n",
       " '__doc__',\n",
       " '__file__',\n",
       " '__loader__',\n",
       " '__name__',\n",
       " '__package__',\n",
       " '__path__',\n",
       " '__settings',\n",
       " '__spec__',\n",
       " '__version__',\n",
       " 'api',\n",
       " 'chromadb',\n",
       " 'config',\n",
       " 'configure',\n",
       " 'errors',\n",
       " 'get_settings',\n",
       " 'is_client',\n",
       " 'logger',\n",
       " 'logging',\n",
       " 'sqlite3',\n",
       " 'telemetry',\n",
       " 'types',\n",
       " 'utils']"
      ]
     },
     "execution_count": 5,
     "metadata": {},
     "output_type": "execute_result"
    }
   ],
   "source": [
    "dir(cdb)"
   ]
  }
 ],
 "metadata": {
  "kernelspec": {
   "display_name": "ollama",
   "language": "python",
   "name": "ollama"
  },
  "language_info": {
   "codemirror_mode": {
    "name": "ipython",
    "version": 3
   },
   "file_extension": ".py",
   "mimetype": "text/x-python",
   "name": "python",
   "nbconvert_exporter": "python",
   "pygments_lexer": "ipython3",
   "version": "3.10.10"
  }
 },
 "nbformat": 4,
 "nbformat_minor": 2
}
