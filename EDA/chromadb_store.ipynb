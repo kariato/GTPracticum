{
 "cells": [
  {
   "cell_type": "code",
   "execution_count": 14,
   "metadata": {},
   "outputs": [],
   "source": [
    "from langchain.embeddings.sentence_transformer import SentenceTransformerEmbeddings\n",
    "from langchain.text_splitter import CharacterTextSplitter,RecursiveCharacterTextSplitter\n",
    "from langchain_community.document_loaders import DataFrameLoader\n",
    "import sentence_transformers\n",
    "from langchain.vectorstores import Chroma\n",
    "import pandas as pd"
   ]
  },
  {
   "cell_type": "code",
   "execution_count": 2,
   "metadata": {},
   "outputs": [
    {
     "name": "stdout",
     "output_type": "stream",
     "text": [
      "/Volumes/External/source/GTPracticum/data\n",
      "total 13153304\n",
      "      0 drwxr-xr-x   17 kariato  staff   544B Feb 21 00:04 \u001b[34m.\u001b[m\u001b[m/\n",
      "      0 drwxr-xr-x    7 kariato  staff   224B Feb 10 21:29 \u001b[34m..\u001b[m\u001b[m/\n",
      "     16 -rw-r--r--@   1 kariato  staff   6.0K Feb 10 14:58 .DS_Store\n",
      "  27280 -rw-r--r--@   1 kariato  staff    13M Feb 21 00:04 2023-10-eb-big-book-of-mlops-2nd-edition-v2-102723-final (1).pdf\n",
      "  27280 -rw-r--r--@   1 kariato  staff    13M Feb 20 10:15 2023-10-eb-big-book-of-mlops-2nd-edition-v2-102723-final.pdf\n",
      "    464 -rw-r--r--@   1 kariato  staff   232K Feb 10 16:00 9deec473-6ab3-4c90-a2ec-86ae93b0a6e6.pdf\n",
      " 733000 -rw-r--r--@   1 kariato  staff   358M Feb 10 14:56 archive (1).zip\n",
      "      0 drwxr-xr-x    4 kariato  staff   128B Feb 13 22:03 \u001b[34mchroma2_db\u001b[m\u001b[m/\n",
      "      0 drwxr-xr-x    4 kariato  staff   128B Feb 12 02:29 \u001b[34mchroma_db\u001b[m\u001b[m/\n",
      "2785400 -rw-rw-r--@   1 kariato  staff   1.3G Sep 19  2019 emails.csv\n",
      "2099696 -rw-r--r--    1 kariato  staff   1.0G Feb 10 14:24 enron.sql\n",
      " 427936 -rw-r--r--@   1 kariato  staff   209M Feb 10 14:24 enron.sql.gz\n",
      " 865736 -rw-r--r--@   1 kariato  staff   423M Feb 10 14:35 enron_mail_20150507.tar.gz\n",
      "6177656 -rw-r--r--    1 kariato  staff   2.9G Feb 11 23:50 enron_processed.csv\n",
      "      0 drwxr-xr-x@  11 kariato  staff   352B Nov 10  2004 \u001b[34menron_with_categories\u001b[m\u001b[m/\n",
      "   8840 -rw-r--r--@   1 kariato  staff   4.3M Feb 10 14:25 enron_with_categories.tar.gz\n",
      "      0 drwxr-xr-x@ 152 kariato  staff   4.8K Apr  1  2011 \u001b[34mmaildir\u001b[m\u001b[m/\n"
     ]
    }
   ],
   "source": [
    "%cd /Volumes/External/source/GTPracticum/data \n",
    "%ls -salh"
   ]
  },
  {
   "cell_type": "code",
   "execution_count": 3,
   "metadata": {},
   "outputs": [],
   "source": [
    "enron_df=pd.read_csv('enron_processed.csv')"
   ]
  },
  {
   "cell_type": "code",
   "execution_count": 4,
   "metadata": {},
   "outputs": [
    {
     "name": "stdout",
     "output_type": "stream",
     "text": [
      "(517401, 15)\n",
      "(246415, 15)\n"
     ]
    }
   ],
   "source": [
    "print(enron_df.shape)\n",
    "enron_df.drop_duplicates(subset='body_short',inplace=True) \n",
    "print(enron_df.shape)\n"
   ]
  },
  {
   "cell_type": "code",
   "execution_count": 5,
   "metadata": {},
   "outputs": [],
   "source": [
    "enron_df.drop(['body','raw'],axis=1,inplace=True)"
   ]
  },
  {
   "cell_type": "code",
   "execution_count": 6,
   "metadata": {},
   "outputs": [
    {
     "data": {
      "text/plain": [
       "Index(['Unnamed: 0', 'MESSAGE-ID', 'DATE', 'FROM', 'TO', 'SUBJECT',\n",
       "       'MIME-VERSION', 'CONTENT-TYPE', 'CONTENT-TRANSFER-ENCODING',\n",
       "       'body_short', 'CC', 'SENT', 'BCC'],\n",
       "      dtype='object')"
      ]
     },
     "execution_count": 6,
     "metadata": {},
     "output_type": "execute_result"
    }
   ],
   "source": [
    "enron_df.columns"
   ]
  },
  {
   "cell_type": "code",
   "execution_count": 7,
   "metadata": {},
   "outputs": [],
   "source": [
    "load_df = DataFrameLoader(enron_df, page_content_column='body_short')\n",
    "documents = load_df.load()"
   ]
  },
  {
   "cell_type": "code",
   "execution_count": 8,
   "metadata": {},
   "outputs": [],
   "source": [
    "text_splitter = RecursiveCharacterTextSplitter(chunk_size=1000, chunk_overlap=100)\n",
    "docs = text_splitter.split_documents(documents)"
   ]
  },
  {
   "cell_type": "code",
   "execution_count": 9,
   "metadata": {},
   "outputs": [
    {
     "name": "stderr",
     "output_type": "stream",
     "text": [
      "/Volumes/External/opt/anaconda3/envs/ollama/lib/python3.10/site-packages/bitsandbytes/cextension.py:34: UserWarning: The installed version of bitsandbytes was compiled without GPU support. 8-bit optimizers, 8-bit multiplication, and GPU quantization are unavailable.\n",
      "  warn(\"The installed version of bitsandbytes was compiled without GPU support. \"\n"
     ]
    },
    {
     "name": "stdout",
     "output_type": "stream",
     "text": [
      "'NoneType' object has no attribute 'cadam32bit_grad_fp32'\n"
     ]
    },
    {
     "name": "stderr",
     "output_type": "stream",
     "text": [
      "/Volumes/External/opt/anaconda3/envs/ollama/lib/python3.10/site-packages/torch/_utils.py:841: UserWarning: TypedStorage is deprecated. It will be removed in the future and UntypedStorage will be the only storage class. This should only matter to you if you are using storages directly.  To access UntypedStorage directly, use tensor.untyped_storage() instead of tensor.storage()\n",
      "  return self.fget.__get__(instance, owner)()\n"
     ]
    }
   ],
   "source": [
    "embedding_function = SentenceTransformerEmbeddings(model_name=\"all-MiniLM-L6-v2\")\n",
    "embedding_function2 = SentenceTransformerEmbeddings(model_name=\"all-mpnet-base-v2\")"
   ]
  },
  {
   "cell_type": "code",
   "execution_count": 10,
   "metadata": {},
   "outputs": [],
   "source": [
    "db = Chroma.from_documents(docs, embedding_function,persist_directory=\"./chroma_db\")"
   ]
  },
  {
   "cell_type": "markdown",
   "metadata": {},
   "source": [
    "db2 = Chroma.from_documents(docs, embedding_function2,persist_directory=\"./chroma2_db\")"
   ]
  },
  {
   "cell_type": "code",
   "execution_count": 13,
   "metadata": {},
   "outputs": [],
   "source": [
    "db3 = Chroma.from_documents(docs, embedding_function2,persist_directory=\"./chroma3_db\",collection_metadata={\"hnsw:space\": \"cosine\"})"
   ]
  },
  {
   "cell_type": "code",
   "execution_count": 9,
   "metadata": {},
   "outputs": [],
   "source": [
    "db2 = Chroma.from_documents(docs, embedding_function2, persist_directory=\"./chroma2_db\")"
   ]
  },
  {
   "cell_type": "code",
   "execution_count": 39,
   "metadata": {},
   "outputs": [
    {
     "name": "stdout",
     "output_type": "stream",
     "text": [
      "page_content=\"Subject: Re: Socal\\n\\nCorporate schizophrenia.  Weird.   DF\\n\\n\\n   \\n\\t\\n\\t\\n\\t\\n\\n\\nSubject: Socal\\n\\nSoCal's protest is ludicrous. I will work on a response.\\nBy the way, SoCal has actually been remarkably helpful in reaching agreement \\non a settlement -- which we just signed -- in the California GIR proceeding.\" metadata={'DATE': ' Mon, 17 Apr 2000 09:52', 'FROM': '>>   Susan Scott                           04/17/2000 03', 'SUBJECT': ' Re>> ', 'TO': '>> ', 'Unnamed: 0': 115182}\n"
     ]
    }
   ],
   "source": [
    "query = \"illegal manipluation\"\n",
    "docs = db.similarity_search(query)\n",
    "\n",
    "# print results\n",
    "print(docs[2])"
   ]
  },
  {
   "cell_type": "code",
   "execution_count": 13,
   "metadata": {},
   "outputs": [
    {
     "name": "stdout",
     "output_type": "stream",
     "text": [
      "(Document(page_content='Subject: Re: Copano P/L 01/00 - S93481\\n\\nCynthia/Daren:\\n\\nKim Vaughn has taken over all of Kathy\\'s meters.  I will look at this issue \\nwith Kim since she is \"new\".\\n\\nFred\\n\\n\\n   \\n\\t\\n\\t\\n\\t\\n\\nSubject: Re: Copano P/L 01/00 - S93481\\n\\nFred, Can you help with this since Kathy isn\\'t here anymore?\\n---------------------- Forwarded by Cynthia Hakemack/HOU/ECT on 01/08/2001 \\n\\n\\nDaren J Farmer\\n01/08/2001 03:54 PM\\nSubject: Re: Copano P/L 01/00 - S93481  \\n\\nThis is a call out meter.  I think the best person to help you would be Kathy \\nBenedict in Volume Management.\\n\\nD\\n\\n\\n   \\n\\t\\n\\t\\n\\t\\n\\nSubject: Copano P/L 01/00 - S93481\\n\\nDaren, I\\'m looking at S93481 for 01/00.  3,461 mmbtu was scheduled to Copano \\nP/L in 02/00 and the counterparty was paid.  In 05/00 the volumes were \\nreversed from this deal.  Would you be able to tell why they were reversed?  \\nI\\'m trying to determine if this is a valid recoverable item.  Thanks.', metadata={'CC': '>> >> >> ', 'DATE': ' Tue, 9 Jan 2001 04:16', 'FROM': '>>   Cynthia Hakemack                           01/08/2001 04>>   Cynthia Hakemack                           01/08/2001 03', 'SUBJECT': ' Re>>  Re>>  Re>> ', 'TO': '>> >> >> ', 'Unnamed: 0': 102996, 'body': 'Subject: Re: Copano P/L 01/00 - S93481\\n\\nCynthia/Daren:\\n\\nKim Vaughn has taken over all of Kathy\\'s meters.  I will look at this issue \\nwith Kim since she is \"new\".\\n\\nFred\\n\\n\\n   \\n\\t\\n\\t\\n\\t\\n\\nSubject: Re: Copano P/L 01/00 - S93481\\n\\nFred, Can you help with this since Kathy isn\\'t here anymore?\\n---------------------- Forwarded by Cynthia Hakemack/HOU/ECT on 01/08/2001 \\n\\n\\nDaren J Farmer\\n01/08/2001 03:54 PM\\nSubject: Re: Copano P/L 01/00 - S93481  \\n\\nThis is a call out meter.  I think the best person to help you would be Kathy \\nBenedict in Volume Management.\\n\\nD\\n\\n\\n   \\n\\t\\n\\t\\n\\t\\n\\nSubject: Copano P/L 01/00 - S93481\\n\\nDaren, I\\'m looking at S93481 for 01/00.  3,461 mmbtu was scheduled to Copano \\nP/L in 02/00 and the counterparty was paid.  In 05/00 the volumes were \\nreversed from this deal.  Would you be able to tell why they were reversed?  \\nI\\'m trying to determine if this is a valid recoverable item.  Thanks.\\n\\n\\n\\n\\n\\n\\n\\n', 'raw': 'Message-ID: <9098252.1075854206387.JavaMail.evans@thyme>\\nDate: Tue, 9 Jan 2001 04:16:00 -0800 (PST)\\nFrom: fred.boas@enron.com\\nTo: kimberly.vaughn@enron.com\\nSubject: Re: Copano P/L 01/00 - S93481\\nCc: cynthia.hakemack@enron.com, daren.farmer@enron.com\\nMime-Version: 1.0\\nContent-Type: text/plain; charset=us-ascii\\nContent-Transfer-Encoding: 7bit\\nBcc: cynthia.hakemack@enron.com, daren.farmer@enron.com\\nX-From: Fred Boas\\nX-To: Kimberly Vaughn\\nX-cc: Cynthia Hakemack, Daren J Farmer\\nX-bcc: \\nX-Folder: \\\\Darren_Farmer_Jun2001\\\\Notes Folders\\\\All documents\\nX-Origin: Farmer-D\\nX-FileName: dfarmer.nsf\\n\\nCynthia/Daren:\\n\\nKim Vaughn has taken over all of Kathy\\'s meters.  I will look at this issue \\nwith Kim since she is \"new\".\\n\\nFred\\n\\n\\n   \\n\\t\\n\\t\\n\\tFrom:  Cynthia Hakemack                           01/08/2001 04:00 PM\\n\\t\\n\\nTo: Fred Boas/HOU/ECT@ECT\\ncc: Charles Howard/NA/Enron@ENRON, Charlene Richmond/HOU/ECT@ECT \\nSubject: Re: Copano P/L 01/00 - S93481\\n\\nFred, Can you help with this since Kathy isn\\'t here anymore?\\n---------------------- Forwarded by Cynthia Hakemack/HOU/ECT on 01/08/2001 \\n03:58 PM ---------------------------\\n\\n\\nDaren J Farmer\\n01/08/2001 03:54 PM\\nTo: Cynthia Hakemack/HOU/ECT@ECT\\ncc:  \\nSubject: Re: Copano P/L 01/00 - S93481  \\n\\nThis is a call out meter.  I think the best person to help you would be Kathy \\nBenedict in Volume Management.\\n\\nD\\n\\n\\n   \\n\\t\\n\\t\\n\\tFrom:  Cynthia Hakemack                           01/08/2001 03:43 PM\\n\\t\\n\\nTo: Daren J Farmer/HOU/ECT@ECT\\ncc: Charles Howard/NA/Enron@ENRON, Charlene Richmond/HOU/ECT@ECT \\nSubject: Copano P/L 01/00 - S93481\\n\\nDaren, I\\'m looking at S93481 for 01/00.  3,461 mmbtu was scheduled to Copano \\nP/L in 02/00 and the counterparty was paid.  In 05/00 the volumes were \\nreversed from this deal.  Would you be able to tell why they were reversed?  \\nI\\'m trying to determine if this is a valid recoverable item.  Thanks.\\n\\n\\n\\n\\n\\n\\n\\n\\n'}), 1.304695725440979)\n"
     ]
    }
   ],
   "source": [
    "#  'similarity_search',\n",
    "#  'similarity_search_by_vector',\n",
    "#  'similarity_search_by_vector_with_relevance_scores',\n",
    "#  'similarity_search_with_relevance_scores',\n",
    "#  'similarity_search_with_score'\n",
    "query = \"illegal manipluation\"\n",
    "docs = db2.similarity_search_with_score(query)\n",
    "print(docs[0])"
   ]
  },
  {
   "cell_type": "code",
   "execution_count": 15,
   "metadata": {},
   "outputs": [
    {
     "name": "stdout",
     "output_type": "stream",
     "text": [
      "(Document(page_content='Subject: Re: Copano P/L 01/00 - S93481\\n\\nCynthia/Daren:\\n\\nKim Vaughn has taken over all of Kathy\\'s meters.  I will look at this issue \\nwith Kim since she is \"new\".\\n\\nFred\\n\\n\\n   \\n\\t\\n\\t\\n\\t\\n\\nSubject: Re: Copano P/L 01/00 - S93481\\n\\nFred, Can you help with this since Kathy isn\\'t here anymore?\\n---------------------- Forwarded by Cynthia Hakemack/HOU/ECT on 01/08/2001 \\n\\n\\nDaren J Farmer\\n01/08/2001 03:54 PM\\nSubject: Re: Copano P/L 01/00 - S93481  \\n\\nThis is a call out meter.  I think the best person to help you would be Kathy \\nBenedict in Volume Management.\\n\\nD\\n\\n\\n   \\n\\t\\n\\t\\n\\t\\n\\nSubject: Copano P/L 01/00 - S93481\\n\\nDaren, I\\'m looking at S93481 for 01/00.  3,461 mmbtu was scheduled to Copano \\nP/L in 02/00 and the counterparty was paid.  In 05/00 the volumes were \\nreversed from this deal.  Would you be able to tell why they were reversed?  \\nI\\'m trying to determine if this is a valid recoverable item.  Thanks.', metadata={'CC': '>> >> >> ', 'DATE': ' Tue, 9 Jan 2001 04:16', 'FROM': '>>   Cynthia Hakemack                           01/08/2001 04>>   Cynthia Hakemack                           01/08/2001 03', 'SUBJECT': ' Re>>  Re>>  Re>> ', 'TO': '>> >> >> ', 'Unnamed: 0': 102996, 'body': 'Subject: Re: Copano P/L 01/00 - S93481\\n\\nCynthia/Daren:\\n\\nKim Vaughn has taken over all of Kathy\\'s meters.  I will look at this issue \\nwith Kim since she is \"new\".\\n\\nFred\\n\\n\\n   \\n\\t\\n\\t\\n\\t\\n\\nSubject: Re: Copano P/L 01/00 - S93481\\n\\nFred, Can you help with this since Kathy isn\\'t here anymore?\\n---------------------- Forwarded by Cynthia Hakemack/HOU/ECT on 01/08/2001 \\n\\n\\nDaren J Farmer\\n01/08/2001 03:54 PM\\nSubject: Re: Copano P/L 01/00 - S93481  \\n\\nThis is a call out meter.  I think the best person to help you would be Kathy \\nBenedict in Volume Management.\\n\\nD\\n\\n\\n   \\n\\t\\n\\t\\n\\t\\n\\nSubject: Copano P/L 01/00 - S93481\\n\\nDaren, I\\'m looking at S93481 for 01/00.  3,461 mmbtu was scheduled to Copano \\nP/L in 02/00 and the counterparty was paid.  In 05/00 the volumes were \\nreversed from this deal.  Would you be able to tell why they were reversed?  \\nI\\'m trying to determine if this is a valid recoverable item.  Thanks.\\n\\n\\n\\n\\n\\n\\n\\n', 'raw': 'Message-ID: <9098252.1075854206387.JavaMail.evans@thyme>\\nDate: Tue, 9 Jan 2001 04:16:00 -0800 (PST)\\nFrom: fred.boas@enron.com\\nTo: kimberly.vaughn@enron.com\\nSubject: Re: Copano P/L 01/00 - S93481\\nCc: cynthia.hakemack@enron.com, daren.farmer@enron.com\\nMime-Version: 1.0\\nContent-Type: text/plain; charset=us-ascii\\nContent-Transfer-Encoding: 7bit\\nBcc: cynthia.hakemack@enron.com, daren.farmer@enron.com\\nX-From: Fred Boas\\nX-To: Kimberly Vaughn\\nX-cc: Cynthia Hakemack, Daren J Farmer\\nX-bcc: \\nX-Folder: \\\\Darren_Farmer_Jun2001\\\\Notes Folders\\\\All documents\\nX-Origin: Farmer-D\\nX-FileName: dfarmer.nsf\\n\\nCynthia/Daren:\\n\\nKim Vaughn has taken over all of Kathy\\'s meters.  I will look at this issue \\nwith Kim since she is \"new\".\\n\\nFred\\n\\n\\n   \\n\\t\\n\\t\\n\\tFrom:  Cynthia Hakemack                           01/08/2001 04:00 PM\\n\\t\\n\\nTo: Fred Boas/HOU/ECT@ECT\\ncc: Charles Howard/NA/Enron@ENRON, Charlene Richmond/HOU/ECT@ECT \\nSubject: Re: Copano P/L 01/00 - S93481\\n\\nFred, Can you help with this since Kathy isn\\'t here anymore?\\n---------------------- Forwarded by Cynthia Hakemack/HOU/ECT on 01/08/2001 \\n03:58 PM ---------------------------\\n\\n\\nDaren J Farmer\\n01/08/2001 03:54 PM\\nTo: Cynthia Hakemack/HOU/ECT@ECT\\ncc:  \\nSubject: Re: Copano P/L 01/00 - S93481  \\n\\nThis is a call out meter.  I think the best person to help you would be Kathy \\nBenedict in Volume Management.\\n\\nD\\n\\n\\n   \\n\\t\\n\\t\\n\\tFrom:  Cynthia Hakemack                           01/08/2001 03:43 PM\\n\\t\\n\\nTo: Daren J Farmer/HOU/ECT@ECT\\ncc: Charles Howard/NA/Enron@ENRON, Charlene Richmond/HOU/ECT@ECT \\nSubject: Copano P/L 01/00 - S93481\\n\\nDaren, I\\'m looking at S93481 for 01/00.  3,461 mmbtu was scheduled to Copano \\nP/L in 02/00 and the counterparty was paid.  In 05/00 the volumes were \\nreversed from this deal.  Would you be able to tell why they were reversed?  \\nI\\'m trying to determine if this is a valid recoverable item.  Thanks.\\n\\n\\n\\n\\n\\n\\n\\n\\n'}), 0.07744080515558183)\n"
     ]
    },
    {
     "ename": "",
     "evalue": "",
     "output_type": "error",
     "traceback": [
      "\u001b[1;31mThe Kernel crashed while executing code in the current cell or a previous cell. \n",
      "\u001b[1;31mPlease review the code in the cell(s) to identify a possible cause of the failure. \n",
      "\u001b[1;31mClick <a href='https://aka.ms/vscodeJupyterKernelCrash'>here</a> for more info. \n",
      "\u001b[1;31mView Jupyter <a href='command:jupyter.viewOutput'>log</a> for further details."
     ]
    }
   ],
   "source": [
    "#  'similarity_search',\n",
    "#  'similarity_search_by_vector',\n",
    "#  'similarity_search_by_vector_with_relevance_scores',\n",
    "#  'similarity_search_with_relevance_scores',\n",
    "#  'similarity_search_with_score'\n",
    "query = \"illegal manipluation\"\n",
    "docs = db2.similarity_search_with_relevance_scores(query)\n",
    "print(docs[0])"
   ]
  },
  {
   "cell_type": "code",
   "execution_count": 40,
   "metadata": {},
   "outputs": [
    {
     "name": "stdout",
     "output_type": "stream",
     "text": [
      "Message-ID: <12645594.1075842517758.JavaMail.evans@thyme>\n",
      "Date: Mon, 17 Apr 2000 09:52:00 -0700 (PDT)\n",
      "From: drew.fossum@enron.com\n",
      "To: susan.scott@enron.com\n",
      "Subject: Re: Socal\n",
      "Mime-Version: 1.0\n",
      "Content-Type: text/plain; charset=us-ascii\n",
      "Content-Transfer-Encoding: 7bit\n",
      "X-From: Drew Fossum\n",
      "X-To: Susan Scott\n",
      "X-cc: \n",
      "X-bcc: \n",
      "X-Folder: \\Drew_Fossum_Dec2000_June2001_1\\Notes Folders\\'sent mail\n",
      "X-Origin: FOSSUM-D\n",
      "X-FileName: dfossum.nsf\n",
      "\n",
      "Corporate schizophrenia.  Weird.   DF\n",
      "\n",
      "\n",
      "   \n",
      "\t\n",
      "\t\n",
      "\tFrom:  Susan Scott                           04/17/2000 03:17 PM\n",
      "\t\n",
      "\n",
      "To: Drew Fossum@ENRON\n",
      "cc:  \n",
      "\n",
      "Subject: Socal\n",
      "\n",
      "SoCal's protest is ludicrous. I will work on a response.\n",
      "By the way, SoCal has actually been remarkably helpful in reaching agreement \n",
      "on a settlement -- which we just signed -- in the California GIR proceeding.\n",
      "\n",
      "\n"
     ]
    }
   ],
   "source": [
    "print(enron_df[enron_df['Unnamed: 0']==115182]['raw'].to_list()[0])"
   ]
  },
  {
   "cell_type": "code",
   "execution_count": 28,
   "metadata": {},
   "outputs": [
    {
     "name": "stdout",
     "output_type": "stream",
     "text": [
      "Subject: Energy market outlook 11/27/01\n",
      "\n"
     ]
    }
   ],
   "source": [
    "print(enron_df[enron_df['Unnamed: 0']==32653]['body'].to_list()[0])"
   ]
  }
 ],
 "metadata": {
  "kernelspec": {
   "display_name": "ollama",
   "language": "python",
   "name": "ollama"
  },
  "language_info": {
   "codemirror_mode": {
    "name": "ipython",
    "version": 3
   },
   "file_extension": ".py",
   "mimetype": "text/x-python",
   "name": "python",
   "nbconvert_exporter": "python",
   "pygments_lexer": "ipython3",
   "version": "3.10.10"
  }
 },
 "nbformat": 4,
 "nbformat_minor": 2
}
