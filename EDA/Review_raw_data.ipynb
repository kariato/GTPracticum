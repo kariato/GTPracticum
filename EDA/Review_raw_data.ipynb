{
 "cells": [
  {
   "cell_type": "markdown",
   "metadata": {},
   "source": [
    "# Perform EDA on raw data files"
   ]
  },
  {
   "cell_type": "code",
   "execution_count": 1,
   "metadata": {},
   "outputs": [
    {
     "name": "stdout",
     "output_type": "stream",
     "text": [
      "/Volumes/External/source/GTPracticum/data\n",
      "total 13293816\n",
      "      0 drwxr-xr-x   13 kariato  staff   416B Feb 11 14:17 \u001b[34m.\u001b[m\u001b[m/\n",
      "      0 drwxr-xr-x    7 kariato  staff   224B Feb 10 21:29 \u001b[34m..\u001b[m\u001b[m/\n",
      "     16 -rw-r--r--@   1 kariato  staff   6.0K Feb 10 14:58 .DS_Store\n",
      "    464 -rw-r--r--@   1 kariato  staff   232K Feb 10 16:00 9deec473-6ab3-4c90-a2ec-86ae93b0a6e6.pdf\n",
      " 733000 -rw-r--r--@   1 kariato  staff   358M Feb 10 14:56 archive (1).zip\n",
      "2785400 -rw-rw-r--@   1 kariato  staff   1.3G Sep 19  2019 emails.csv\n",
      "2109312 -rw-r--r--    1 kariato  staff   1.0G Feb 10 14:24 enron.sql\n",
      " 427936 -rw-r--r--@   1 kariato  staff   209M Feb 10 14:24 enron.sql.gz\n",
      " 865736 -rw-r--r--@   1 kariato  staff   423M Feb 10 14:35 enron_mail_20150507.tar.gz\n",
      "6363112 -rw-r--r--    1 kariato  staff   3.0G Feb 11 14:17 enron_processed.csv\n",
      "      0 drwxr-xr-x@  11 kariato  staff   352B Nov 10  2004 \u001b[34menron_with_categories\u001b[m\u001b[m/\n",
      "   8840 -rw-r--r--@   1 kariato  staff   4.3M Feb 10 14:25 enron_with_categories.tar.gz\n",
      "      0 drwxr-xr-x@ 152 kariato  staff   4.8K Apr  1  2011 \u001b[34mmaildir\u001b[m\u001b[m/\n"
     ]
    }
   ],
   "source": [
    "%cd /Volumes/External/source/GTPracticum/data \n",
    "%ls -salh"
   ]
  },
  {
   "cell_type": "code",
   "execution_count": null,
   "metadata": {},
   "outputs": [],
   "source": [
    "!tar -xvf enron_mail_20150507.tar.gz"
   ]
  },
  {
   "cell_type": "code",
   "execution_count": 6,
   "metadata": {},
   "outputs": [],
   "source": [
    "!gzip -dk enron.sql.gz"
   ]
  },
  {
   "cell_type": "code",
   "execution_count": null,
   "metadata": {},
   "outputs": [],
   "source": [
    "!tar -xvf enron_with_categories.tar.gz"
   ]
  },
  {
   "cell_type": "code",
   "execution_count": 2,
   "metadata": {},
   "outputs": [],
   "source": [
    "import pandas as pd\n",
    "enron=pd.read_csv(\"emails.csv\")"
   ]
  },
  {
   "cell_type": "code",
   "execution_count": 3,
   "metadata": {},
   "outputs": [
    {
     "name": "stdout",
     "output_type": "stream",
     "text": [
      "(517401, 2)\n",
      "Index(['file', 'message'], dtype='object')\n"
     ]
    }
   ],
   "source": [
    "print(enron.shape)\n",
    "print(enron.columns)"
   ]
  },
  {
   "cell_type": "code",
   "execution_count": 4,
   "metadata": {},
   "outputs": [],
   "source": [
    "email_tags=['Subject','To','CC','BCC','SENT','From','Date','Content-Type','Message-ID','Mime-Version','Content-Transfer-Encoding']\n",
    "email_secondary_tags=['X-From','X-To','X-cc','X-bcc','X-Folder','X-Origin','X-FileName']+['HTTP', '<HTTP', 'FAX', 'TIME', 'ALIAS', 'PHONE', '(SEE ATTACHED FILE', 'MKT_TYPE', 'TRANS_TYPE', 'PURPOSE', 'IMPACT', 'CONTACT(S)', 'OUTAGE', 'SC_ID', 'TRANS_DATE',\n",
    " 'ENVIRONMENTS IMPACTED', 'BACKOUT', 'RECEIVED', 'START DATE', '10', 'SENT BY', 'DETAILS', '> SUBJECT', 'LOG MESSAGES', '<A HREF=\"HTTP', 'PARSING FILE -->> O',\n",
    " 'ERROR', '11', 'TEL', '<< FILE', '> SENT', '12', '> TO', '09', '08', '> FROM', 'IMPORTANCE', 'E-MAIL', '04', '02', '03', '01', '05', 'EMAIL', 'RE', '07',\n",
    " '<MAILTO', 'ENGY_TYPE', 'INTERCHG_ID', 'TIE_POINT', '<IMG SRC=\"HTTP', 'LOCATION', 'PURCH_SALE', 'TRADING_SC', 'SCHED_TYPE', '[MAILTO', 'DEAL_NO', 'PNT_OF_INTRC',\n",
    " 'X-MAILER', '>SUBJECT', '>TO', '> CC', 'PH', 'URL', 'CONTACT', '=09=09 SUBJECT', 'USA', 'MAILTO', '06', 'HREF=\"HTTP', '>FROM', '9', '', '=09=09 CC', 'HTTPS',\n",
    " 'DESCRIPTION', 'WHEN', '1', 'GET YOUR FREE DOWNLOAD OF MSN EXPLORER AT HTTP', '3', 'LOAD_ID', '2', '>DATE', 'WHERE', 'INTERNET', 'SCHEDULED SYSTEM OUTAGES',\n",
    " 'KAY', 'CELL', '=09=09 TO','9', '13', '14', '15', '16', '17', '18', '19', '20', '21', '22', '23', '24', '25', '26', '27','1','2','3','4','5','6','7','8','9','0',\n",
    " 'CALENDAR ENTRY', 'COMPANY', 'SITARA', 'UNIFY', 'NT', 'TERMINAL SERVER', 'AZURIX', 'TELEPHONY', 'SUN/OSS SYSTEM', 'OS/2', 'FIELD SERVICES',\n",
    " 'EB34 DATA CENTER - FACILITY OPERATIONS', 'ARDMORE DATA CENTER - FACILITY OPERATIONS', 'TITLE', 'TELEPHONE', \"<TD STYLE='PADDING\", '> HTTP',\n",
    " '<TR BGCOLOR=#EAEAEA ><TD CLASS=TD2 ><A HREF=\"HTTP', 'RETURN-PATH', '<TR BGCOLOR=#F0F0F0 ><TD CLASS=TD2 ><A HREF=\"HTTP', 'OTHER SYSTEMS', 'EDI SERVER', 'REQUEST ID',\n",
    " 'REQUEST CREATE DATE', 'RESOURCE NAME', 'RESOURCE TYPE', 'ACCESS ONLINE AT', 'MESSAGING', 'RATE', '18','SPECIFIC HELP', '*TO', 'THE REPORT NAMED', 'VINCE',\n",
    " '7', 'SOURCE', 'AIRCRAFT', 'MARK', 'INDIA', 'PLEASE NOTE', 'ACTIVITY', '17', \"STYLE='FONT-SIZE\", '=09=09HTTP', 'UNIT_ID', '<FONT  FACE=\"TIMES NEW ROMAN\"><B><A HREF=\"HTTP',\n",
    " '4', 'OFFICE', 'ENRON CENTER SOUTH DATA CENTER - FACILITY OPERATIONS', '5', 'A', 'PASSWORD', '=09FROM', '15', '6',\n",
    " \"<P CLASS=MSONORMAL ALIGN=RIGHT STYLE='TEXT-ALIGN\", 'PAGER', 'FACSIMILE', 'EMPLOYEE NAME', '> > TO', 'BODY', 'EVENT', 'HEADLINE', 'X-MS-TNEF-CORRELATOR', 'X-MS-MAIL-PRIORITY',\n",
    " 'LENGTH', 'ACCESS STORIES ONLINE AT', 'TANA', '14', '> > SENT', 'LOAD-DATE', 'GET YOUR PRIVATE, FREE E-MAIL FROM MSN HOTMAIL AT HTTP',\n",
    " 'JEFF', 'CONTENT-DISPOSITION', 'SECTION', 'REPORT TOTAL', 'EXPENSE REPORT NAME', 'AMOUNT DUE EMPLOYEE', 'SRC=\"HTTP', '19', 'EFFECTIVE DATE',\n",
    " '<< OLE OBJECT', 'AIRPORT', 'STEVE', '>> > > TO', 'BYLINE', '> > FROM', '(HTTP', 'SPONSORED BY', 'X-VERSION', '<TD><IMG SRC=\"HTTP', 'NAME', 'ADDRESS', '> FAX',\n",
    " '>CC', '>HTTP', 'BUY.COM PRICE', 'REFERENCE NUMBER',  'PLACE', '$21 A DAY IN', 'E-MAIL CATEGORY',\n",
    " 'TOPIC', 'VOICE', 'ALL', 'JOHN', '$18 A DAY IN', '> (SEE ATTACHED FILE', 'AUTHOR', 'WEB', '>SENT', 'USER ID', 'TERM', 'PARTICIPANT CODE', 'MOBILE',\n",
    " 'UK', 'X-MIMEOLE', 'GREETINGS', 'TO UNSUBSCRIBE FROM THIS GROUP, SEND AN EMAIL TO', 'VISIT HTTP', \"UNRECOGNIZED DATABASE FORMAT 'R\", 'FILE',\n",
    "  'THE FOLLOWING EXPENSE REPORT IS READY FOR APPROVAL', 'REGULAR', 'O', '16', 'ACCESS ALL ONLINE PRESENTATIONS AT',\n",
    " 'TERMS OF USE', 'COLOR', 'NOTICE', 'EES', 'X-PRIORITY',\n",
    " '=0F', 'FTP', 'SUSAN', 'STATUS', 'DEGREE', '$26 A DAY IN', '> PHONE', '(EMBEDDED IMAGE MOVED TO FILE', 'FONT-FAMILY', 'HOME', 'CLICK HERE', 'CRUDE     HTTP',\n",
    " 'NATURAL GAS     HTTP', 'TO FILE', 'HOUSTON', 'SENSITIVITY', '=09 BROWN', 'DAVID', 'USUAL EVENT TIME', 'APPROXIMATE TIME OF MESSAGE AVAILABILITY',\n",
    " 'STANDARD EVENT MESSAGE', 'FONT-SIZE',  '> >SUBJECT', 'RICK', 'JIM', 'PHOTO', '<A HREF=3D\"HTTP', 'X-MSMAIL-PRIORITY', 'YOUR USE OF YAHOO! GROUPS IS SUBJECT TO HTTP',\n",
    " 'PASSCODE', '<OMNICREATEDDATE>5/9/2000 5', 'TEL.', 'DOCUMENT.WRITE(\\'<IMG SRC=\"HTTP', 'DATELINE', 'ENRON', 'WEB SITE', 'X-MIMETRACK', 'BRAZIL', '$23 A DAY IN', 'NOTICE ID', 'DISTILLATE     HTTP', 'UNLEADED     HTTP', '> > CC', '> >TO', 'ATTN', '>    SUBJECT',\n",
    " 'AT HTTP', '> DATE', '=09 Q', 'PRONUNCIATION', 'CALL SOS MEDICAL EMERGENCY', 'ENRON ENTITY', 'RICHARD', '>    SENT', 'FEEDBACK DUE DATE', \"TODAY'S FOCUS\", '$20 A DAY IN', 'WEBSITE', '> >FROM', '=09HTTP', 'MSGID',\n",
    " 'PRESS RELEASE', 'PRODUCT LINE', 'DAVE', 'RESERVATION CONFIRMED         2', 'QUESTION', 'STAR WARS', '=09SENT BY', 'CONFIRMATION', 'PHONE NO']\n",
    "email_tags=[i.upper() for i in email_tags]\n",
    "email_secondary_tags=[i.upper() for i in email_secondary_tags]"
   ]
  },
  {
   "cell_type": "code",
   "execution_count": 5,
   "metadata": {},
   "outputs": [],
   "source": [
    "email_lines_top={}"
   ]
  },
  {
   "cell_type": "code",
   "execution_count": 6,
   "metadata": {},
   "outputs": [],
   "source": [
    "from collections import defaultdict\n",
    "import re\n",
    "tags=defaultdict(int)\n",
    "email_lines=defaultdict(int)\n",
    "email_list=[]\n",
    "email_pattern = re.compile(r'\\b[A-Za-z0-9._%+-]+@[A-Za-z0-9.-]+\\.[A-Z|a-z]{2,}\\b')\n",
    "phone_pattern = re.compile(r'\\b\\d{3}[-.]?\\d{3}[-.]?\\d{4}\\b')\n",
    "for email_header,email_row in enron.iterrows():\n",
    "    email_txt=email_row[\"message\"]\n",
    "    body=[]\n",
    "    bodyShort=[]\n",
    "    email_header={}\n",
    "    for email_line in email_txt.splitlines():\n",
    "        header_parts=email_line.split(\":\")\n",
    "        if len(header_parts)>1:\n",
    "            tag=header_parts[0].upper().strip()\n",
    "            if  tag in email_tags:\n",
    "                if tag in email_header:\n",
    "                    email_header[tag]+='>> '+':'.join(header_parts[1:-1])\n",
    "                else: \n",
    "                    email_header[tag]=':'.join(header_parts[1:-1])\n",
    "                if header_parts[0]=='Subject':\n",
    "                    body.append(email_line)\n",
    "                    bodyShort.append(email_line)\n",
    "            elif tag in email_secondary_tags:\n",
    "                pass\n",
    "            else:\n",
    "                if '/Enron@ENRON,' not in email_line and '@enron.com' not in email_line:\n",
    "                    body.append(email_line)\n",
    "                    if email_line not in email_lines_top:\n",
    "                        bodyShort.append(email_line)                \n",
    "                    tags[tag]+=1\n",
    "        else:\n",
    "            if '/Enron@ENRON,' not in email_line and '@enron.com' not in email_line and email_pattern.search(email_line) is None and phone_pattern.search(email_line) is None:\n",
    "                body.append(email_line)\n",
    "                email_lines[email_line]+=1\n",
    "                if email_line not in email_lines_top:\n",
    "                    bodyShort.append(email_line)\n",
    "\n",
    "    email_header['body']='\\n'.join(body)\n",
    "    email_header['body_short']='\\n'.join(bodyShort)\n",
    "    email_header['raw']=email_txt\n",
    "    email_list.append(email_header)\n",
    "tagsEdited={i:j for i,j in tags.items() if j>40}\n",
    "email_df=pd.DataFrame(email_list)\n",
    "bad_tag=pd.DataFrame([tagsEdited]).T.sort_values(0,ascending=False)\n"
   ]
  },
  {
   "cell_type": "code",
   "execution_count": 26,
   "metadata": {},
   "outputs": [
    {
     "name": "stdout",
     "output_type": "stream",
     "text": [
      "5242\n"
     ]
    }
   ],
   "source": [
    "email_lines_top={i:j for i,j in email_lines.items() if j>100}\n",
    "print(len(email_lines_top))\n"
   ]
  },
  {
   "cell_type": "code",
   "execution_count": 7,
   "metadata": {},
   "outputs": [],
   "source": [
    "from collections import defaultdict\n",
    "import re\n",
    "tags=defaultdict(int)\n",
    "email_lines=defaultdict(int)\n",
    "email_list=[]\n",
    "email_pattern = re.compile(r'\\b[A-Za-z0-9._%+-]+@[A-Za-z0-9.-]+\\.[A-Z|a-z]{2,}\\b')\n",
    "phone_pattern = re.compile(r'\\b\\d{3}[-.]?\\d{3}[-.]?\\d{4}\\b')\n",
    "for email_header,email_row in enron.iterrows():\n",
    "    email_txt=email_row[\"message\"]\n",
    "    body=[]\n",
    "    bodyShort=[]\n",
    "    email_header={}\n",
    "    for email_line in email_txt.splitlines():\n",
    "        header_parts=email_line.split(\":\")\n",
    "        if len(header_parts)>1:\n",
    "            tag=header_parts[0].upper().strip()\n",
    "            if  tag in email_tags:\n",
    "                if tag in email_header:\n",
    "                    email_header[tag]+='>> '+':'.join(header_parts[1:-1])\n",
    "                else: \n",
    "                    email_header[tag]=':'.join(header_parts[1:-1])\n",
    "                if header_parts[0]=='Subject':\n",
    "                    body.append(email_line)\n",
    "                    bodyShort.append(email_line)\n",
    "            elif tag in email_secondary_tags:\n",
    "                pass\n",
    "            else:\n",
    "                if '/Enron@ENRON,' not in email_line and '@enron.com' not in email_line:\n",
    "                    body.append(email_line)\n",
    "                    if email_line not in email_lines_top:\n",
    "                        bodyShort.append(email_line)                \n",
    "                    tags[tag]+=1\n",
    "        else:\n",
    "            if '/Enron@ENRON,' not in email_line and '@enron.com' not in email_line and email_pattern.search(email_line) is None and phone_pattern.search(email_line) is None:\n",
    "                body.append(email_line)\n",
    "                email_lines[email_line]+=1\n",
    "                if email_line not in email_lines_top:\n",
    "                    bodyShort.append(email_line)\n",
    "\n",
    "    email_header['body']='\\n'.join(body)\n",
    "    email_header['body_short']='\\n'.join(bodyShort)\n",
    "    email_header['raw']=email_txt\n",
    "    email_list.append(email_header)\n",
    "tagsEdited={i:j for i,j in tags.items() if j>40}\n",
    "email_df=pd.DataFrame(email_list)\n",
    "bad_tag=pd.DataFrame([tagsEdited]).T.sort_values(0,ascending=False)\n"
   ]
  },
  {
   "cell_type": "code",
   "execution_count": null,
   "metadata": {},
   "outputs": [],
   "source": [
    "bad_tag.reset_index()['index'].tolist()"
   ]
  },
  {
   "cell_type": "code",
   "execution_count": 27,
   "metadata": {},
   "outputs": [
    {
     "name": "stdout",
     "output_type": "stream",
     "text": [
      "5923072\n"
     ]
    }
   ],
   "source": [
    "print(email_lines_top[''])\n"
   ]
  },
  {
   "cell_type": "code",
   "execution_count": 8,
   "metadata": {},
   "outputs": [
    {
     "name": "stdout",
     "output_type": "stream",
     "text": [
      "Subject: Fwd: Plaintiff's amended petition\n",
      "\n",
      "Gentlemen:\n",
      "\n",
      "Please see the attached e-mail from Tom Hall.  After you get over your \n",
      "initial anger (or amusement), let's put our heads together to discuss an \n",
      "appropriate response.\n",
      "\n",
      "- Doug\n",
      "\n",
      "Dear Doug,\n",
      "\n",
      "I decided to wait until after Christmas to respond to your letter.\n",
      "\n",
      "I have drafted an amended petition which adds Randy, Steve, and Enron as\n",
      "defendants.  Among other matters, the petition includes tort claims arising\n",
      "from acts of slander, fraud, and tortious interference with contract.\n",
      "\n",
      "You have been critical of my decision to file the original petition in\n",
      "September because, as I understand it, you believed that I had failed to\n",
      "exhaust other avenues for redress.  I believe that every other potential\n",
      "means of resolution had been exhausted.  However, in respect for your offer\n",
      "of constructive criticism, I would like to once again extend an offer for\n",
      "mediation in an attempt to resolve the ECOGAS matter, and now these matters.\n",
      "\n",
      "I called your office and understand that you are not in today.  As I\n",
      "anticipate that you may be on vacation this week, I will wait until next\n",
      "week before proceeding with any new filings.\n",
      "\n",
      "Please contact me if mediation is of any interest to your client.  If it\n",
      "won't be you, please let me know if you happen to know who will be\n",
      "representing the additional defendants.\n",
      "\n",
      "Best regards,\n",
      "Tom\n",
      "\n"
     ]
    }
   ],
   "source": [
    "email_df2=email_df.sample(1000)\n",
    "print(email_df2['body'].tail(1).to_list()[0])"
   ]
  },
  {
   "cell_type": "code",
   "execution_count": 9,
   "metadata": {},
   "outputs": [
    {
     "name": "stdout",
     "output_type": "stream",
     "text": [
      "Subject: Fwd: Plaintiff's amended petition\n",
      "\n",
      "Gentlemen:\n",
      "\n",
      "Please see the attached e-mail from Tom Hall.  After you get over your \n",
      "initial anger (or amusement), let's put our heads together to discuss an \n",
      "appropriate response.\n",
      "\n",
      "- Doug\n",
      "\n",
      "Dear Doug,\n",
      "\n",
      "I decided to wait until after Christmas to respond to your letter.\n",
      "\n",
      "I have drafted an amended petition which adds Randy, Steve, and Enron as\n",
      "defendants.  Among other matters, the petition includes tort claims arising\n",
      "from acts of slander, fraud, and tortious interference with contract.\n",
      "\n",
      "You have been critical of my decision to file the original petition in\n",
      "September because, as I understand it, you believed that I had failed to\n",
      "exhaust other avenues for redress.  I believe that every other potential\n",
      "means of resolution had been exhausted.  However, in respect for your offer\n",
      "of constructive criticism, I would like to once again extend an offer for\n",
      "mediation in an attempt to resolve the ECOGAS matter, and now these matters.\n",
      "\n",
      "I called your office and understand that you are not in today.  As I\n",
      "anticipate that you may be on vacation this week, I will wait until next\n",
      "week before proceeding with any new filings.\n",
      "\n",
      "Please contact me if mediation is of any interest to your client.  If it\n",
      "won't be you, please let me know if you happen to know who will be\n",
      "representing the additional defendants.\n",
      "\n",
      "Best regards,\n",
      "Tom\n",
      "\n"
     ]
    }
   ],
   "source": [
    "print(email_df2['body_short'].tail(1).to_list()[0])"
   ]
  },
  {
   "cell_type": "code",
   "execution_count": 10,
   "metadata": {},
   "outputs": [
    {
     "name": "stdout",
     "output_type": "stream",
     "text": [
      "Message-ID: <2060001.1075853227273.JavaMail.evans@thyme>\n",
      "Date: Thu, 28 Dec 2000 03:41:00 -0800 (PST)\n",
      "From: ddaniels@bracepatt.com\n",
      "To: rstephens@bracepatt.com, steve@ecogas.com, randal.t.maffett@enron.com, \n",
      "\trichard.b.sanders@enron.com\n",
      "Subject: Fwd: Plaintiff's amended petition\n",
      "Mime-Version: 1.0\n",
      "Content-Type: text/plain; charset=us-ascii\n",
      "Content-Transfer-Encoding: 7bit\n",
      "X-From: \"Douglas Daniels\" <ddaniels@bracepatt.com>\n",
      "X-To: \"Robert Stephens\" <rstephens@bracepatt.com>, <steve@ecogas.com>, <Randal.T.Maffett@enron.com>, <Richard.B.Sanders@enron.com>\n",
      "X-cc: \n",
      "X-bcc: \n",
      "X-Folder: \\Richard_Sanders_Oct2001\\Notes Folders\\Ecogas\n",
      "X-Origin: Sanders-R\n",
      "X-FileName: rsanders.nsf\n",
      "\n",
      "Gentlemen:\n",
      "\n",
      "Please see the attached e-mail from Tom Hall.  After you get over your \n",
      "initial anger (or amusement), let's put our heads together to discuss an \n",
      "appropriate response.\n",
      "\n",
      "- Doug\n",
      "Content-Transfer-Encoding: 7bit\n",
      "Content-Type: text/plain; charset=\"iso-8859-1\"\n",
      "\n",
      "Dear Doug,\n",
      "\n",
      "I decided to wait until after Christmas to respond to your letter.\n",
      "\n",
      "I have drafted an amended petition which adds Randy, Steve, and Enron as\n",
      "defendants.  Among other matters, the petition includes tort claims arising\n",
      "from acts of slander, fraud, and tortious interference with contract.\n",
      "\n",
      "You have been critical of my decision to file the original petition in\n",
      "September because, as I understand it, you believed that I had failed to\n",
      "exhaust other avenues for redress.  I believe that every other potential\n",
      "means of resolution had been exhausted.  However, in respect for your offer\n",
      "of constructive criticism, I would like to once again extend an offer for\n",
      "mediation in an attempt to resolve the ECOGAS matter, and now these matters.\n",
      "\n",
      "I called your office and understand that you are not in today.  As I\n",
      "anticipate that you may be on vacation this week, I will wait until next\n",
      "week before proceeding with any new filings.\n",
      "\n",
      "Please contact me if mediation is of any interest to your client.  If it\n",
      "won't be you, please let me know if you happen to know who will be\n",
      "representing the additional defendants.\n",
      "\n",
      "Best regards,\n",
      "Tom\n",
      "\n",
      "\n"
     ]
    }
   ],
   "source": [
    "print(email_df2['raw'].tail(1).to_list()[0])"
   ]
  },
  {
   "cell_type": "code",
   "execution_count": 11,
   "metadata": {},
   "outputs": [
    {
     "data": {
      "text/plain": [
       "Index(['MESSAGE-ID', 'DATE', 'FROM', 'TO', 'SUBJECT', 'MIME-VERSION',\n",
       "       'CONTENT-TYPE', 'CONTENT-TRANSFER-ENCODING', 'body', 'body_short',\n",
       "       'raw', 'CC', 'SENT', 'BCC'],\n",
       "      dtype='object')"
      ]
     },
     "execution_count": 11,
     "metadata": {},
     "output_type": "execute_result"
    }
   ],
   "source": [
    "email_df.columns"
   ]
  },
  {
   "cell_type": "code",
   "execution_count": 12,
   "metadata": {},
   "outputs": [],
   "source": [
    "email_df.to_csv(\"enron_processed.csv\")"
   ]
  },
  {
   "cell_type": "code",
   "execution_count": 44,
   "metadata": {},
   "outputs": [
    {
     "ename": "AttributeError",
     "evalue": "module 'datasets' has no attribute 'from_pandas'",
     "output_type": "error",
     "traceback": [
      "\u001b[0;31m---------------------------------------------------------------------------\u001b[0m",
      "\u001b[0;31mAttributeError\u001b[0m                            Traceback (most recent call last)",
      "Cell \u001b[0;32mIn[44], line 2\u001b[0m\n\u001b[1;32m      1\u001b[0m \u001b[38;5;28;01mimport\u001b[39;00m \u001b[38;5;21;01mdatasets\u001b[39;00m\n\u001b[0;32m----> 2\u001b[0m enron_dataset \u001b[38;5;241m=\u001b[39m \u001b[43mdatasets\u001b[49m\u001b[38;5;241;43m.\u001b[39;49m\u001b[43mfrom_pandas\u001b[49m(email_df)\n",
      "\u001b[0;31mAttributeError\u001b[0m: module 'datasets' has no attribute 'from_pandas'"
     ]
    }
   ],
   "source": [
    "import datasets\n",
    "enron_dataset = dataset.from_pandas(email_df)"
   ]
  }
 ],
 "metadata": {
  "kernelspec": {
   "display_name": "ollama",
   "language": "python",
   "name": "ollama"
  },
  "language_info": {
   "codemirror_mode": {
    "name": "ipython",
    "version": 3
   },
   "file_extension": ".py",
   "mimetype": "text/x-python",
   "name": "python",
   "nbconvert_exporter": "python",
   "pygments_lexer": "ipython3",
   "version": "3.10.10"
  }
 },
 "nbformat": 4,
 "nbformat_minor": 2
}
