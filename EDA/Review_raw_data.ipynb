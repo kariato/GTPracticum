{
 "cells": [
  {
   "cell_type": "markdown",
   "metadata": {},
   "source": [
    "# Perform EDA on raw data files"
   ]
  },
  {
   "cell_type": "code",
   "execution_count": 10,
   "metadata": {},
   "outputs": [
    {
     "name": "stdout",
     "output_type": "stream",
     "text": [
      "/Volumes/External/source/GTPracticum/data\n",
      "total 7000392\n",
      "      0 drwxr-xr-x   11 kariato  staff   352B Feb 10 14:58 \u001b[34m.\u001b[m\u001b[m/\n",
      "      0 drwxr-xr-x    7 kariato  staff   224B Feb 10 14:27 \u001b[34m..\u001b[m\u001b[m/\n",
      "     16 -rw-r--r--@   1 kariato  staff   6.0K Feb 10 14:58 .DS_Store\n",
      " 753984 -rw-r--r--@   1 kariato  staff   358M Feb 10 14:56 archive (1).zip\n",
      "2814656 -rw-rw-r--@   1 kariato  staff   1.3G Sep 19  2019 emails.csv\n",
      "2109312 -rw-r--r--    1 kariato  staff   1.0G Feb 10 14:24 enron.sql\n",
      " 427936 -rw-r--r--@   1 kariato  staff   209M Feb 10 14:24 enron.sql.gz\n",
      " 885648 -rw-r--r--@   1 kariato  staff   423M Feb 10 14:35 enron_mail_20150507.tar.gz\n",
      "      0 drwxr-xr-x@  11 kariato  staff   352B Nov 10  2004 \u001b[34menron_with_categories\u001b[m\u001b[m/\n",
      "   8840 -rw-r--r--@   1 kariato  staff   4.3M Feb 10 14:25 enron_with_categories.tar.gz\n",
      "      0 drwxr-xr-x@ 152 kariato  staff   4.8K Apr  1  2011 \u001b[34mmaildir\u001b[m\u001b[m/\n"
     ]
    }
   ],
   "source": [
    "%cd /Volumes/External/source/GTPracticum/data \n",
    "%ls -salh"
   ]
  },
  {
   "cell_type": "code",
   "execution_count": null,
   "metadata": {},
   "outputs": [],
   "source": [
    "!tar -xvf enron_mail_20150507.tar.gz"
   ]
  },
  {
   "cell_type": "code",
   "execution_count": 6,
   "metadata": {},
   "outputs": [],
   "source": [
    "!gzip -dk enron.sql.gz"
   ]
  },
  {
   "cell_type": "code",
   "execution_count": null,
   "metadata": {},
   "outputs": [],
   "source": [
    "!tar -xvf enron_with_categories.tar.gz"
   ]
  },
  {
   "cell_type": "code",
   "execution_count": 12,
   "metadata": {},
   "outputs": [],
   "source": [
    "import pandas as pd\n",
    "enron=pd.read_csv(\"emails.csv\")"
   ]
  },
  {
   "cell_type": "code",
   "execution_count": 28,
   "metadata": {},
   "outputs": [],
   "source": [
    "\n",
    "    print(email_row['file'])\n",
    "    print(email_row['message'])\n",
    "    break"
   ]
  },
  {
   "cell_type": "code",
   "execution_count": 67,
   "metadata": {},
   "outputs": [],
   "source": [
    "email_tags=['Subject','To','CC','BCC','SENT','From','Date','Content-Type','Message-ID','Mime-Version','Content-Transfer-Encoding',\n",
    "            'X-From','X-To','X-cc','X-bcc','X-Folder','X-Origin','X-FileName']\n",
    "email_tags=[i.upper() for i in email_tags]"
   ]
  },
  {
   "cell_type": "code",
   "execution_count": 68,
   "metadata": {},
   "outputs": [],
   "source": [
    "from collections import defaultdict\n",
    "tags=defaultdict(int)\n",
    "email_list=[]\n",
    "for email_header,email_row in enron.iterrows():\n",
    "    email_txt=email_row[\"message\"]\n",
    "    body=[]\n",
    "    email_header={}\n",
    "    for email_line in email_txt.splitlines():\n",
    "        header_parts=email_line.split(\":\")\n",
    "        if len(header_parts)>1:\n",
    "            tag=header_parts[0].upper().strip()\n",
    "            if  tag in email_tags:\n",
    "                if tag in email_header:\n",
    "                    email_header[tag]+='>> '+':'.join(header_parts[1:-1])\n",
    "                else: \n",
    "                    email_header[tag]=':'.join(header_parts[1:-1])\n",
    "                if header_parts[0]=='Subject':\n",
    "                    body.append(email_line)\n",
    "            else:\n",
    "                body.append(email_line)                \n",
    "                tags[tag]+=1\n",
    "        else:\n",
    "            body.append(email_line)\n",
    "    email_header['body']='\\n'.join(body)\n",
    "    email_header['raw']=email_txt\n",
    "    email_list.append(email_header)\n",
    "tagsEdited={i:j for i,j in tags.items() if j>400}\n",
    "email_df=pd.DataFrame(email_list)\n",
    "bad_tag=pd.DataFrame([tagsEdited]).T.sort_values(0,ascending=False)"
   ]
  },
  {
   "cell_type": "code",
   "execution_count": 69,
   "metadata": {},
   "outputs": [
    {
     "data": {
      "text/html": [
       "<div>\n",
       "<style scoped>\n",
       "    .dataframe tbody tr th:only-of-type {\n",
       "        vertical-align: middle;\n",
       "    }\n",
       "\n",
       "    .dataframe tbody tr th {\n",
       "        vertical-align: top;\n",
       "    }\n",
       "\n",
       "    .dataframe thead th {\n",
       "        text-align: right;\n",
       "    }\n",
       "</style>\n",
       "<table border=\"1\" class=\"dataframe\">\n",
       "  <thead>\n",
       "    <tr style=\"text-align: right;\">\n",
       "      <th></th>\n",
       "      <th>index</th>\n",
       "      <th>0</th>\n",
       "    </tr>\n",
       "  </thead>\n",
       "  <tbody>\n",
       "    <tr>\n",
       "      <th>0</th>\n",
       "      <td>HTTP</td>\n",
       "      <td>138959</td>\n",
       "    </tr>\n",
       "    <tr>\n",
       "      <th>1</th>\n",
       "      <td>&lt;HTTP</td>\n",
       "      <td>23086</td>\n",
       "    </tr>\n",
       "    <tr>\n",
       "      <th>2</th>\n",
       "      <td>FAX</td>\n",
       "      <td>20727</td>\n",
       "    </tr>\n",
       "    <tr>\n",
       "      <th>3</th>\n",
       "      <td>TIME</td>\n",
       "      <td>17056</td>\n",
       "    </tr>\n",
       "    <tr>\n",
       "      <th>4</th>\n",
       "      <td>ALIAS</td>\n",
       "      <td>13667</td>\n",
       "    </tr>\n",
       "    <tr>\n",
       "      <th>...</th>\n",
       "      <td>...</td>\n",
       "      <td>...</td>\n",
       "    </tr>\n",
       "    <tr>\n",
       "      <th>325</th>\n",
       "      <td>STAR WARS</td>\n",
       "      <td>405</td>\n",
       "    </tr>\n",
       "    <tr>\n",
       "      <th>326</th>\n",
       "      <td>=09SENT BY</td>\n",
       "      <td>405</td>\n",
       "    </tr>\n",
       "    <tr>\n",
       "      <th>327</th>\n",
       "      <td>REPLY-TO</td>\n",
       "      <td>404</td>\n",
       "    </tr>\n",
       "    <tr>\n",
       "      <th>328</th>\n",
       "      <td>CONFIRMATION</td>\n",
       "      <td>402</td>\n",
       "    </tr>\n",
       "    <tr>\n",
       "      <th>329</th>\n",
       "      <td>PHONE NO</td>\n",
       "      <td>402</td>\n",
       "    </tr>\n",
       "  </tbody>\n",
       "</table>\n",
       "<p>330 rows × 2 columns</p>\n",
       "</div>"
      ],
      "text/plain": [
       "            index       0\n",
       "0            HTTP  138959\n",
       "1           <HTTP   23086\n",
       "2             FAX   20727\n",
       "3            TIME   17056\n",
       "4           ALIAS   13667\n",
       "..            ...     ...\n",
       "325     STAR WARS     405\n",
       "326    =09SENT BY     405\n",
       "327      REPLY-TO     404\n",
       "328  CONFIRMATION     402\n",
       "329      PHONE NO     402\n",
       "\n",
       "[330 rows x 2 columns]"
      ]
     },
     "execution_count": 69,
     "metadata": {},
     "output_type": "execute_result"
    }
   ],
   "source": [
    "bad_tag.reset_index()  "
   ]
  },
  {
   "cell_type": "code",
   "execution_count": 58,
   "metadata": {},
   "outputs": [
    {
     "data": {
      "text/html": [
       "<div>\n",
       "<style scoped>\n",
       "    .dataframe tbody tr th:only-of-type {\n",
       "        vertical-align: middle;\n",
       "    }\n",
       "\n",
       "    .dataframe tbody tr th {\n",
       "        vertical-align: top;\n",
       "    }\n",
       "\n",
       "    .dataframe thead th {\n",
       "        text-align: right;\n",
       "    }\n",
       "</style>\n",
       "<table border=\"1\" class=\"dataframe\">\n",
       "  <thead>\n",
       "    <tr style=\"text-align: right;\">\n",
       "      <th></th>\n",
       "      <th>0</th>\n",
       "    </tr>\n",
       "  </thead>\n",
       "  <tbody>\n",
       "    <tr>\n",
       "      <th>body</th>\n",
       "      <td>Message-ID: &lt;18782981.1075855378110.JavaMail.e...</td>\n",
       "    </tr>\n",
       "    <tr>\n",
       "      <th>raw</th>\n",
       "      <td>Message-ID: &lt;18782981.1075855378110.JavaMail.e...</td>\n",
       "    </tr>\n",
       "  </tbody>\n",
       "</table>\n",
       "</div>"
      ],
      "text/plain": [
       "                                                      0\n",
       "body  Message-ID: <18782981.1075855378110.JavaMail.e...\n",
       "raw   Message-ID: <18782981.1075855378110.JavaMail.e..."
      ]
     },
     "execution_count": 58,
     "metadata": {},
     "output_type": "execute_result"
    }
   ],
   "source": [
    "email_df.head(1).T"
   ]
  },
  {
   "cell_type": "code",
   "execution_count": 74,
   "metadata": {},
   "outputs": [
    {
     "name": "stdout",
     "output_type": "stream",
     "text": [
      "Subject: ETS Products/Services\n",
      "\n",
      "Please follow up with Lou on this.  It sounds like something the commercial \n",
      "people would be in a good position to answer, so maybe start by finding out \n",
      "if they are already responding, either through Lou or otherwise.  Then get \n",
      "the right people to review and supplement this list.  Thanks. df \n",
      "---------------------- Forwarded by Drew Fossum/ET&S/Enron on 11/08/2000 \n",
      "12:29 PM ---------------------------\n",
      "\n",
      "11/08/2000 11:06 AM\n",
      "Louis Soldano\n",
      "Louis Soldano\n",
      "Louis Soldano\n",
      "11/08/2000 11:06 AM\n",
      "11/08/2000 11:06 AM\n",
      "Sample/Houston/Eott@Eott, David Johnson/EU/Enron@Enron, David L \n",
      "Johnson/OTS/Enron@ENRON, David Bush/ECF/Enron@ENRON, Mark \n",
      "Cartwright/ECF/Enron@ENRON, Drew Fossum/ET&S/Enron@ENRON, Dorothy \n",
      "McCoppin/FGT/Enron@ENRON, Don Hawkins/OTS/Enron@Enron\n",
      "Prentice/GPGFIN/Enron@ENRON, Colleen Raker/ET&S/Enron@ENRON, Michael \n",
      "Moran/ET&S/Enron@ENRON \n",
      "\n",
      "Subject: ETS Products/Services\n",
      "\n",
      "EHS Corporate has asked we verify this inventory of services/products  from \n",
      "all of the various companies that fit under the very broadest form of the ETS \n",
      "umbrella.  I offer the following thoughts:  I don't believe EOTT has any \n",
      "relationship with the Mt. Belvieu storage operations; I don't know if we \n",
      "purchase natural gas except for fuel purposes; do we currently have any gas \n",
      "gathering facilities?? or just transmission??; EOTT Fleet Vehicles could be \n",
      "better defined; Risk Management services??\n",
      "\n",
      "Feedback would be extremely helpful before the 17th\n",
      "---------------------- Forwarded by Louis Soldano/ET&S/Enron on 11/08/2000 \n",
      "10:53 AM ---------------------------\n",
      "\n",
      "Subject: ETS Products/Services\n",
      "\n",
      "Lou,\n",
      "\n",
      "This is a follow-up to a meeting we had about 2 months ago on Life Cycle \n",
      "Impact Assessments.  The 1st phase of the assessment involves completing an \n",
      "inventory of Enron's products\\services and volumes.  I am currently \n",
      "requesting each business unit to verify the products and services we have \n",
      "identified and make any modifications to the list.  I am enlisting your \n",
      "assistance to do this for ETS, including EOTT.  I need to have the \n",
      "verification completed by 11/17. Please advise if you have any questions.\n",
      "\n",
      "\n",
      "\n",
      "Thanks,\n",
      "Susan Worthen\n",
      "Director\n",
      "Environmental Compliance, Enron Corp\n",
      "713/646-6579  713/345-6164 fax\n",
      "3AC 1525\n",
      "\n",
      "\n"
     ]
    }
   ],
   "source": [
    "email_df2=email_df.sample(1000)\n",
    "print(email_df2['body'].tail(1).to_list()[0])"
   ]
  },
  {
   "cell_type": "code",
   "execution_count": 77,
   "metadata": {},
   "outputs": [
    {
     "name": "stdout",
     "output_type": "stream",
     "text": [
      "Message-ID: <12110590.1075842506433.JavaMail.evans@thyme>\n",
      "Date: Wed, 8 Nov 2000 04:31:00 -0800 (PST)\n",
      "From: drew.fossum@enron.com\n",
      "To: maria.pavlou@enron.com\n",
      "Subject: ETS Products/Services\n",
      "Cc: louis.soldano@enron.com\n",
      "Mime-Version: 1.0\n",
      "Content-Type: text/plain; charset=us-ascii\n",
      "Content-Transfer-Encoding: 7bit\n",
      "Bcc: louis.soldano@enron.com\n",
      "X-From: Drew Fossum\n",
      "X-To: Maria Pavlou\n",
      "X-cc: Louis Soldano\n",
      "X-bcc: \n",
      "X-Folder: \\Drew_Fossum_Dec2000_June2001_1\\Notes Folders\\Sent\n",
      "X-Origin: FOSSUM-D\n",
      "X-FileName: dfossum.nsf\n",
      "\n",
      "Please follow up with Lou on this.  It sounds like something the commercial \n",
      "people would be in a good position to answer, so maybe start by finding out \n",
      "if they are already responding, either through Lou or otherwise.  Then get \n",
      "the right people to review and supplement this list.  Thanks. df \n",
      "---------------------- Forwarded by Drew Fossum/ET&S/Enron on 11/08/2000 \n",
      "12:29 PM ---------------------------\n",
      "\n",
      "11/08/2000 11:06 AM\n",
      "Louis Soldano\n",
      "Louis Soldano\n",
      "Louis Soldano\n",
      "11/08/2000 11:06 AM\n",
      "11/08/2000 11:06 AM\n",
      "To: John Shafer/OTS/Enron, Janet Place/NPNG/Enron@ENRON, Molly \n",
      "Sample/Houston/Eott@Eott, David Johnson/EU/Enron@Enron, David L \n",
      "Johnson/OTS/Enron@ENRON, David Bush/ECF/Enron@ENRON, Mark \n",
      "Cartwright/ECF/Enron@ENRON, Drew Fossum/ET&S/Enron@ENRON, Dorothy \n",
      "McCoppin/FGT/Enron@ENRON, Don Hawkins/OTS/Enron@Enron\n",
      "cc: Phil Lowry/OTS/Enron@ENRON, Shelley Corman/ET&S/Enron@ENRON, James \n",
      "Prentice/GPGFIN/Enron@ENRON, Colleen Raker/ET&S/Enron@ENRON, Michael \n",
      "Moran/ET&S/Enron@ENRON \n",
      "\n",
      "Subject: ETS Products/Services\n",
      "\n",
      "EHS Corporate has asked we verify this inventory of services/products  from \n",
      "all of the various companies that fit under the very broadest form of the ETS \n",
      "umbrella.  I offer the following thoughts:  I don't believe EOTT has any \n",
      "relationship with the Mt. Belvieu storage operations; I don't know if we \n",
      "purchase natural gas except for fuel purposes; do we currently have any gas \n",
      "gathering facilities?? or just transmission??; EOTT Fleet Vehicles could be \n",
      "better defined; Risk Management services??\n",
      "\n",
      "Feedback would be extremely helpful before the 17th\n",
      "---------------------- Forwarded by Louis Soldano/ET&S/Enron on 11/08/2000 \n",
      "10:53 AM ---------------------------\n",
      "From: Susan Worthen@ENRON_DEVELOPMENT on 11/07/2000 10:00 AM\n",
      "To: Louis Soldano/ET&S/Enron@ENRON\n",
      "cc:  \n",
      "\n",
      "Subject: ETS Products/Services\n",
      "\n",
      "Lou,\n",
      "\n",
      "This is a follow-up to a meeting we had about 2 months ago on Life Cycle \n",
      "Impact Assessments.  The 1st phase of the assessment involves completing an \n",
      "inventory of Enron's products\\services and volumes.  I am currently \n",
      "requesting each business unit to verify the products and services we have \n",
      "identified and make any modifications to the list.  I am enlisting your \n",
      "assistance to do this for ETS, including EOTT.  I need to have the \n",
      "verification completed by 11/17. Please advise if you have any questions.\n",
      "\n",
      "\n",
      "\n",
      "Thanks,\n",
      "Susan Worthen\n",
      "Director\n",
      "Environmental Compliance, Enron Corp\n",
      "713/646-6579  713/345-6164 fax\n",
      "3AC 1525\n",
      "\n",
      "\n",
      "\n"
     ]
    }
   ],
   "source": [
    "print(email_df2['raw'].tail(1).to_list()[0])"
   ]
  },
  {
   "cell_type": "code",
   "execution_count": 82,
   "metadata": {},
   "outputs": [
    {
     "name": "stdout",
     "output_type": "stream",
     "text": [
      "(1000,)\n"
     ]
    }
   ],
   "source": [
    "print(email_df2['raw'].shape)"
   ]
  }
 ],
 "metadata": {
  "kernelspec": {
   "display_name": "ollama",
   "language": "python",
   "name": "ollama"
  },
  "language_info": {
   "codemirror_mode": {
    "name": "ipython",
    "version": 3
   },
   "file_extension": ".py",
   "mimetype": "text/x-python",
   "name": "python",
   "nbconvert_exporter": "python",
   "pygments_lexer": "ipython3",
   "version": "3.10.10"
  }
 },
 "nbformat": 4,
 "nbformat_minor": 2
}
